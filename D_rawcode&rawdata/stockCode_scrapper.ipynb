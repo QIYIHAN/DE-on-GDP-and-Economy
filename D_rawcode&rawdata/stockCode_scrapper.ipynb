{
 "cells": [
  {
   "cell_type": "code",
   "execution_count": null,
   "metadata": {},
   "outputs": [],
   "source": [
    "import requests\n",
    "from bs4 import BeautifulSoup\n",
    "\n",
    "# URL\n",
    "url = 'https://www.wkzk.com/gegu/'\n",
    "\n",
    "\n",
    "headers = {'User-Agent': 'Mozilla/5.0 (Windows NT 10.0; Win64; x64) AppleWebKit/537.36 (KHTML, like Gecko) Chrome/91.0.4472.124 Safari/537.36'}\n",
    "response = requests.get(url, headers=headers)\n",
    "\n",
    "print(response.status_code)\n",
    "# Analyze HTML\n",
    "soup = BeautifulSoup(response.text, 'html.parser')\n",
    "\n",
    "# find the stock list\n",
    "stock_list = soup.find('div', class_='stock_list')\n",
    "\n",
    "print(stock_list)\n",
    "\n"
   ]
  },
  {
   "cell_type": "code",
   "execution_count": null,
   "metadata": {},
   "outputs": [],
   "source": [
    "# writeto a txt file\n",
    "with open('stock_code.txt', 'w', encoding='utf-8') as file:\n",
    "    for link in stock_list.find_all('a'):\n",
    "        href = link.get('href')\n",
    "        stock_number = href.split('/')[-1]  \n",
    "        file.write(stock_number + '\\n')  \n",
    "\n",
    "print(\"Stock code have been save to stock_numbers.txt\")"
   ]
  }
 ],
 "metadata": {
  "language_info": {
   "name": "python"
  }
 },
 "nbformat": 4,
 "nbformat_minor": 2
}
