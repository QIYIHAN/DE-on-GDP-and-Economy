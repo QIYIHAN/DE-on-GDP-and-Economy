{
 "cells": [
  {
   "cell_type": "code",
   "execution_count": null,
   "metadata": {},
   "outputs": [],
   "source": [
    "!pip install openai\n",
    "!pip install pandas"
   ]
  },
  {
   "cell_type": "code",
   "execution_count": null,
   "metadata": {},
   "outputs": [],
   "source": [
    "import os\n",
    "import pandas as pd\n",
    "import openai\n",
    "\n",
    "openai.api_key = 'API_key'\n",
    "\n",
    "# Define the folder path\n",
    "folder_path = r'the path of where you save the News folder'\n",
    "\n",
    "# Create an empty DataFrame to store results\n",
    "results_df = pd.DataFrame(columns=['Source', 'Time', 'Sentiment'])\n",
    "\n",
    "# Loop over all .txt files in the folder\n",
    "for filename in os.listdir(folder_path):\n",
    "    if filename.endswith('.txt'):\n",
    "        file_path = os.path.join(folder_path, filename)\n",
    "\n",
    "        # Read file content\n",
    "        with open(file_path, 'r', encoding='utf-8') as file:\n",
    "            transcript = file.read()\n",
    "\n",
    "        # Extract the first and second lines as time and source respectively\n",
    "        time = transcript.splitlines()[0].strip()  # Extract the published date of the news\n",
    "        source = transcript.splitlines()[1].strip()  # Extract the source of the news\n",
    "\n",
    "        # Perform sentiment analysis\n",
    "        messages = [\n",
    "            {\"role\": \"system\", \"content\": \"You are an economist.\"},\n",
    "            {\"role\": \"user\", \"content\": f\"This is a news: \\\"{transcript}\\\". What is the sentiment of this text?\"}\n",
    "        ]\n",
    "        response = openai.ChatCompletion.create(\n",
    "            model=\"gpt-4-turbo-2024-04-09\",\n",
    "            messages=messages\n",
    "        )\n",
    "\n",
    "        # Extract and save analysis result\n",
    "        analysis_result = response.choices[0].message['content']\n",
    "\n",
    "        # Create a new DataFrame to store the results of the current iteration\n",
    "        new_row = pd.DataFrame({'Source': [source], 'Time': [time], 'Sentiment': [analysis_result]})\n",
    "\n",
    "        # Use the concat method to add the new row to results_df\n",
    "        results_df = pd.concat([results_df, new_row], ignore_index=True)\n",
    "        print(\"This round of txt has completed sentiment analysis.\")\n",
    "\n",
    "# Save results to a CSV file\n",
    "results_df.to_csv('the path of the folder where you want to save this csv file', index=False)\n",
    "\n",
    "print(\"Sentiment analysis results saved to 'sentiment_analysis_results.csv'\")"
   ]
  }
 ],
 "metadata": {
  "kernelspec": {
   "display_name": "Python 3 (ipykernel)",
   "language": "python",
   "name": "python3"
  },
  "language_info": {
   "codemirror_mode": {
    "name": "ipython",
    "version": 3
   },
   "file_extension": ".py",
   "mimetype": "text/x-python",
   "name": "python",
   "nbconvert_exporter": "python",
   "pygments_lexer": "ipython3",
   "version": "3.9.12"
  }
 },
 "nbformat": 4,
 "nbformat_minor": 4
}
